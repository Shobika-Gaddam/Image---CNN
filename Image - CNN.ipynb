{
 "cells": [
  {
   "cell_type": "code",
   "execution_count": 1,
   "id": "ee2afde5",
   "metadata": {},
   "outputs": [
    {
     "name": "stdout",
     "output_type": "stream",
     "text": [
      "Requirement already satisfied: pip in c:\\users\\shobi\\anaconda3\\lib\\site-packages (22.0.3)\n",
      "Note: you may need to restart the kernel to use updated packages.\n"
     ]
    }
   ],
   "source": [
    "pip install --upgrade pip"
   ]
  },
  {
   "cell_type": "code",
   "execution_count": 2,
   "id": "727efe26",
   "metadata": {},
   "outputs": [
    {
     "name": "stdout",
     "output_type": "stream",
     "text": [
      "Requirement already satisfied: opencv-python in c:\\users\\shobi\\anaconda3\\lib\\site-packages (4.5.5.62)\n",
      "Requirement already satisfied: numpy>=1.17.3 in c:\\users\\shobi\\anaconda3\\lib\\site-packages (from opencv-python) (1.20.1)\n",
      "Note: you may need to restart the kernel to use updated packages.\n"
     ]
    }
   ],
   "source": [
    "pip install opencv-python"
   ]
  },
  {
   "cell_type": "code",
   "execution_count": 3,
   "id": "35bb18df",
   "metadata": {},
   "outputs": [
    {
     "name": "stdout",
     "output_type": "stream",
     "text": [
      "Requirement already satisfied: seaborn in c:\\users\\shobi\\anaconda3\\lib\\site-packages (0.11.1)\n",
      "Requirement already satisfied: scipy>=1.0 in c:\\users\\shobi\\anaconda3\\lib\\site-packages (from seaborn) (1.6.2)\n",
      "Requirement already satisfied: matplotlib>=2.2 in c:\\users\\shobi\\anaconda3\\lib\\site-packages (from seaborn) (3.3.4)\n",
      "Requirement already satisfied: pandas>=0.23 in c:\\users\\shobi\\anaconda3\\lib\\site-packages (from seaborn) (1.2.4)\n",
      "Requirement already satisfied: numpy>=1.15 in c:\\users\\shobi\\anaconda3\\lib\\site-packages (from seaborn) (1.20.1)\n",
      "Requirement already satisfied: pillow>=6.2.0 in c:\\users\\shobi\\anaconda3\\lib\\site-packages (from matplotlib>=2.2->seaborn) (8.2.0)\n",
      "Requirement already satisfied: cycler>=0.10 in c:\\users\\shobi\\anaconda3\\lib\\site-packages (from matplotlib>=2.2->seaborn) (0.10.0)\n",
      "Requirement already satisfied: python-dateutil>=2.1 in c:\\users\\shobi\\anaconda3\\lib\\site-packages (from matplotlib>=2.2->seaborn) (2.8.1)\n",
      "Requirement already satisfied: kiwisolver>=1.0.1 in c:\\users\\shobi\\anaconda3\\lib\\site-packages (from matplotlib>=2.2->seaborn) (1.3.1)\n",
      "Requirement already satisfied: pyparsing!=2.0.4,!=2.1.2,!=2.1.6,>=2.0.3 in c:\\users\\shobi\\anaconda3\\lib\\site-packages (from matplotlib>=2.2->seaborn) (2.4.7)\n",
      "Requirement already satisfied: pytz>=2017.3 in c:\\users\\shobi\\anaconda3\\lib\\site-packages (from pandas>=0.23->seaborn) (2021.1)\n",
      "Requirement already satisfied: six in c:\\users\\shobi\\anaconda3\\lib\\site-packages (from cycler>=0.10->matplotlib>=2.2->seaborn) (1.15.0)\n",
      "Note: you may need to restart the kernel to use updated packages.\n"
     ]
    }
   ],
   "source": [
    "pip install seaborn"
   ]
  },
  {
   "cell_type": "code",
   "execution_count": 4,
   "id": "75fedc06",
   "metadata": {},
   "outputs": [
    {
     "name": "stdout",
     "output_type": "stream",
     "text": [
      "Requirement already satisfied: keras in c:\\users\\shobi\\anaconda3\\lib\\site-packages (2.8.0)\n",
      "Note: you may need to restart the kernel to use updated packages.\n"
     ]
    }
   ],
   "source": [
    "pip install keras"
   ]
  },
  {
   "cell_type": "code",
   "execution_count": 5,
   "id": "072d5c2d",
   "metadata": {},
   "outputs": [
    {
     "name": "stdout",
     "output_type": "stream",
     "text": [
      "Requirement already satisfied: notebook in c:\\users\\shobi\\anaconda3\\lib\\site-packages (6.3.0)\n",
      "Requirement already satisfied: argon2-cffi in c:\\users\\shobi\\anaconda3\\lib\\site-packages (from notebook) (20.1.0)\n",
      "Requirement already satisfied: pyzmq>=17 in c:\\users\\shobi\\anaconda3\\lib\\site-packages (from notebook) (20.0.0)\n",
      "Requirement already satisfied: nbformat in c:\\users\\shobi\\anaconda3\\lib\\site-packages (from notebook) (5.1.3)\n",
      "Requirement already satisfied: tornado>=6.1 in c:\\users\\shobi\\anaconda3\\lib\\site-packages (from notebook) (6.1)\n",
      "Requirement already satisfied: ipykernel in c:\\users\\shobi\\anaconda3\\lib\\site-packages (from notebook) (5.3.4)\n",
      "Requirement already satisfied: Send2Trash>=1.5.0 in c:\\users\\shobi\\anaconda3\\lib\\site-packages (from notebook) (1.5.0)\n",
      "Requirement already satisfied: prometheus-client in c:\\users\\shobi\\anaconda3\\lib\\site-packages (from notebook) (0.10.1)\n",
      "Requirement already satisfied: nbconvert in c:\\users\\shobi\\anaconda3\\lib\\site-packages (from notebook) (6.0.7)\n",
      "Requirement already satisfied: jupyter-core>=4.6.1 in c:\\users\\shobi\\anaconda3\\lib\\site-packages (from notebook) (4.7.1)\n",
      "Requirement already satisfied: traitlets>=4.2.1 in c:\\users\\shobi\\anaconda3\\lib\\site-packages (from notebook) (5.0.5)\n",
      "Requirement already satisfied: jupyter-client>=5.3.4 in c:\\users\\shobi\\anaconda3\\lib\\site-packages (from notebook) (6.1.12)\n",
      "Requirement already satisfied: terminado>=0.8.3 in c:\\users\\shobi\\anaconda3\\lib\\site-packages (from notebook) (0.9.4)\n",
      "Requirement already satisfied: ipython-genutils in c:\\users\\shobi\\anaconda3\\lib\\site-packages (from notebook) (0.2.0)\n",
      "Requirement already satisfied: jinja2 in c:\\users\\shobi\\anaconda3\\lib\\site-packages (from notebook) (2.11.3)\n",
      "Requirement already satisfied: python-dateutil>=2.1 in c:\\users\\shobi\\anaconda3\\lib\\site-packages (from jupyter-client>=5.3.4->notebook) (2.8.1)\n",
      "Requirement already satisfied: pywin32>=1.0 in c:\\users\\shobi\\anaconda3\\lib\\site-packages (from jupyter-core>=4.6.1->notebook) (227)\n",
      "Requirement already satisfied: pywinpty>=0.5 in c:\\users\\shobi\\anaconda3\\lib\\site-packages (from terminado>=0.8.3->notebook) (0.5.7)\n",
      "Requirement already satisfied: cffi>=1.0.0 in c:\\users\\shobi\\anaconda3\\lib\\site-packages (from argon2-cffi->notebook) (1.14.5)\n",
      "Requirement already satisfied: six in c:\\users\\shobi\\anaconda3\\lib\\site-packages (from argon2-cffi->notebook) (1.15.0)\n",
      "Requirement already satisfied: ipython>=5.0.0 in c:\\users\\shobi\\anaconda3\\lib\\site-packages (from ipykernel->notebook) (7.22.0)\n",
      "Requirement already satisfied: MarkupSafe>=0.23 in c:\\users\\shobi\\anaconda3\\lib\\site-packages (from jinja2->notebook) (1.1.1)\n",
      "Requirement already satisfied: jupyterlab-pygments in c:\\users\\shobi\\anaconda3\\lib\\site-packages (from nbconvert->notebook) (0.1.2)\n",
      "Requirement already satisfied: pandocfilters>=1.4.1 in c:\\users\\shobi\\anaconda3\\lib\\site-packages (from nbconvert->notebook) (1.4.3)\n",
      "Requirement already satisfied: nbclient<0.6.0,>=0.5.0 in c:\\users\\shobi\\anaconda3\\lib\\site-packages (from nbconvert->notebook) (0.5.3)\n",
      "Requirement already satisfied: defusedxml in c:\\users\\shobi\\anaconda3\\lib\\site-packages (from nbconvert->notebook) (0.7.1)\n",
      "Requirement already satisfied: bleach in c:\\users\\shobi\\anaconda3\\lib\\site-packages (from nbconvert->notebook) (3.3.0)\n",
      "Requirement already satisfied: testpath in c:\\users\\shobi\\anaconda3\\lib\\site-packages (from nbconvert->notebook) (0.4.4)\n",
      "Requirement already satisfied: entrypoints>=0.2.2 in c:\\users\\shobi\\anaconda3\\lib\\site-packages (from nbconvert->notebook) (0.3)\n",
      "Requirement already satisfied: mistune<2,>=0.8.1 in c:\\users\\shobi\\anaconda3\\lib\\site-packages (from nbconvert->notebook) (0.8.4)\n",
      "Requirement already satisfied: pygments>=2.4.1 in c:\\users\\shobi\\anaconda3\\lib\\site-packages (from nbconvert->notebook) (2.8.1)\n",
      "Requirement already satisfied: jsonschema!=2.5.0,>=2.4 in c:\\users\\shobi\\anaconda3\\lib\\site-packages (from nbformat->notebook) (3.2.0)\n",
      "Requirement already satisfied: pycparser in c:\\users\\shobi\\anaconda3\\lib\\site-packages (from cffi>=1.0.0->argon2-cffi->notebook) (2.20)\n",
      "Requirement already satisfied: backcall in c:\\users\\shobi\\anaconda3\\lib\\site-packages (from ipython>=5.0.0->ipykernel->notebook) (0.2.0)\n",
      "Requirement already satisfied: decorator in c:\\users\\shobi\\anaconda3\\lib\\site-packages (from ipython>=5.0.0->ipykernel->notebook) (5.0.6)\n",
      "Requirement already satisfied: setuptools>=18.5 in c:\\users\\shobi\\anaconda3\\lib\\site-packages (from ipython>=5.0.0->ipykernel->notebook) (52.0.0.post20210125)\n",
      "Requirement already satisfied: prompt-toolkit!=3.0.0,!=3.0.1,<3.1.0,>=2.0.0 in c:\\users\\shobi\\anaconda3\\lib\\site-packages (from ipython>=5.0.0->ipykernel->notebook) (3.0.17)\n",
      "Requirement already satisfied: colorama in c:\\users\\shobi\\anaconda3\\lib\\site-packages (from ipython>=5.0.0->ipykernel->notebook) (0.4.4)\n",
      "Requirement already satisfied: pickleshare in c:\\users\\shobi\\anaconda3\\lib\\site-packages (from ipython>=5.0.0->ipykernel->notebook) (0.7.5)\n",
      "Requirement already satisfied: jedi>=0.16 in c:\\users\\shobi\\anaconda3\\lib\\site-packages (from ipython>=5.0.0->ipykernel->notebook) (0.17.2)\n",
      "Requirement already satisfied: pyrsistent>=0.14.0 in c:\\users\\shobi\\anaconda3\\lib\\site-packages (from jsonschema!=2.5.0,>=2.4->nbformat->notebook) (0.17.3)\n",
      "Requirement already satisfied: attrs>=17.4.0 in c:\\users\\shobi\\anaconda3\\lib\\site-packages (from jsonschema!=2.5.0,>=2.4->nbformat->notebook) (20.3.0)\n",
      "Requirement already satisfied: async-generator in c:\\users\\shobi\\anaconda3\\lib\\site-packages (from nbclient<0.6.0,>=0.5.0->nbconvert->notebook) (1.10)\n",
      "Requirement already satisfied: nest-asyncio in c:\\users\\shobi\\anaconda3\\lib\\site-packages (from nbclient<0.6.0,>=0.5.0->nbconvert->notebook) (1.5.1)\n",
      "Requirement already satisfied: webencodings in c:\\users\\shobi\\anaconda3\\lib\\site-packages (from bleach->nbconvert->notebook) (0.5.1)\n",
      "Requirement already satisfied: packaging in c:\\users\\shobi\\anaconda3\\lib\\site-packages (from bleach->nbconvert->notebook) (20.9)\n",
      "Requirement already satisfied: parso<0.8.0,>=0.7.0 in c:\\users\\shobi\\anaconda3\\lib\\site-packages (from jedi>=0.16->ipython>=5.0.0->ipykernel->notebook) (0.7.0)\n",
      "Requirement already satisfied: wcwidth in c:\\users\\shobi\\anaconda3\\lib\\site-packages (from prompt-toolkit!=3.0.0,!=3.0.1,<3.1.0,>=2.0.0->ipython>=5.0.0->ipykernel->notebook) (0.2.5)\n",
      "Requirement already satisfied: pyparsing>=2.0.2 in c:\\users\\shobi\\anaconda3\\lib\\site-packages (from packaging->bleach->nbconvert->notebook) (2.4.7)\n",
      "Note: you may need to restart the kernel to use updated packages.\n"
     ]
    }
   ],
   "source": [
    "pip install notebook"
   ]
  },
  {
   "cell_type": "code",
   "execution_count": null,
   "id": "902abcc1",
   "metadata": {},
   "outputs": [],
   "source": [
    "pip install tensorflow"
   ]
  },
  {
   "cell_type": "code",
   "execution_count": null,
   "id": "a90ff337",
   "metadata": {},
   "outputs": [],
   "source": [
    "#py -m notebook"
   ]
  },
  {
   "cell_type": "code",
   "execution_count": null,
   "id": "e0a4ab0d",
   "metadata": {},
   "outputs": [],
   "source": [
    "import cv2\n",
    "import keras\n",
    "import seaborn\n",
    "import notebook"
   ]
  },
  {
   "cell_type": "code",
   "execution_count": null,
   "id": "2af45070",
   "metadata": {},
   "outputs": [],
   "source": []
  }
 ],
 "metadata": {
  "kernelspec": {
   "display_name": "Python 3",
   "language": "python",
   "name": "python3"
  },
  "language_info": {
   "codemirror_mode": {
    "name": "ipython",
    "version": 3
   },
   "file_extension": ".py",
   "mimetype": "text/x-python",
   "name": "python",
   "nbconvert_exporter": "python",
   "pygments_lexer": "ipython3",
   "version": "3.8.8"
  }
 },
 "nbformat": 4,
 "nbformat_minor": 5
}
